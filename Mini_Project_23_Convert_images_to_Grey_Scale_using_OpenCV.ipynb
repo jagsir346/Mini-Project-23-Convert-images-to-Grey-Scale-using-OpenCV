{
  "nbformat": 4,
  "nbformat_minor": 0,
  "metadata": {
    "colab": {
      "provenance": [],
      "authorship_tag": "ABX9TyPbiSkE0xrpsN4yevM7j1ni",
      "include_colab_link": true
    },
    "kernelspec": {
      "name": "python3",
      "display_name": "Python 3"
    },
    "language_info": {
      "name": "python"
    }
  },
  "cells": [
    {
      "cell_type": "markdown",
      "metadata": {
        "id": "view-in-github",
        "colab_type": "text"
      },
      "source": [
        "<a href=\"https://colab.research.google.com/github/jagsir346/Mini-Project-23-Convert-images-to-Grey-Scale-using-OpenCV/blob/main/Mini_Project_23_Convert_images_to_Grey_Scale_using_OpenCV.ipynb\" target=\"_parent\"><img src=\"https://colab.research.google.com/assets/colab-badge.svg\" alt=\"Open In Colab\"/></a>"
      ]
    },
    {
      "cell_type": "code",
      "execution_count": 7,
      "metadata": {
        "colab": {
          "base_uri": "https://localhost:8080/"
        },
        "id": "rScXTrIIu1tj",
        "outputId": "702591e2-e09f-453b-87aa-3f07dae5583b"
      },
      "outputs": [
        {
          "output_type": "stream",
          "name": "stdout",
          "text": [
            "Requirement already satisfied: opencv-python in /usr/local/lib/python3.11/dist-packages (4.11.0.86)\n",
            "Requirement already satisfied: numpy>=1.21.2 in /usr/local/lib/python3.11/dist-packages (from opencv-python) (2.0.2)\n",
            "📤 Upload a ZIP file containing 100 images...\n",
            "✅ Extracted 'Supercar.zip' into folder: 'extracted_images'\n",
            "🎞 Converting 56 images to grayscale...\n"
          ]
        },
        {
          "output_type": "stream",
          "name": "stderr",
          "text": [
            "100%|██████████| 56/56 [00:01<00:00, 32.43it/s]\n"
          ]
        },
        {
          "output_type": "stream",
          "name": "stdout",
          "text": [
            "✅ Conversion complete!\n"
          ]
        }
      ],
      "source": [
        "# Mini-Project-23: Convert 100 Images to Grey Scale using OpenCV\n",
        "\n",
        "# Step 1: Install necessary libraries\n",
        "!pip install opencv-python\n",
        "\n",
        "# Step 2: Import modules\n",
        "import cv2\n",
        "import os\n",
        "import zipfile\n",
        "from google.colab import files\n",
        "from tqdm import tqdm\n",
        "\n",
        "# Step 3: Upload ZIP file of 100 images\n",
        "print(\"📤 Upload a ZIP file containing 100 images...\")\n",
        "\n",
        "# ✅ Replace this with your actual uploaded ZIP file name\n",
        "zip_path = \"Supercar.zip\"\n",
        "\n",
        "# ✅ Folder where you want to extract files\n",
        "extract_folder = \"extracted_images\"\n",
        "os.makedirs(extract_folder, exist_ok=True)\n",
        "\n",
        "# ✅ Extract the ZIP file\n",
        "with zipfile.ZipFile(zip_path, 'r') as zip_ref:\n",
        "    zip_ref.extractall(extract_folder)\n",
        "\n",
        "print(f\"✅ Extracted '{zip_path}' into folder: '{extract_folder}'\")\n",
        "# Step 5: Create output folder\n",
        "output_folder = \"project/output_images\"\n",
        "os.makedirs(output_folder, exist_ok=True)\n",
        "\n",
        "# Step 6: Convert each image to grayscale\n",
        "image_files = [f for f in os.listdir(extract_folder) if f.lower().endswith(('.png', '.jpg', '.jpeg'))]\n",
        "\n",
        "print(f\"🎞 Converting {len(image_files)} images to grayscale...\")\n",
        "\n",
        "for img_name in tqdm(image_files):\n",
        "    input_path = os.path.join(extract_folder, img_name)\n",
        "    output_path = os.path.join(output_folder, img_name)\n",
        "\n",
        "    img = cv2.imread(input_path)\n",
        "    gray = cv2.cvtColor(img, cv2.COLOR_BGR2GRAY)\n",
        "    cv2.imwrite(output_path, gray)\n",
        "\n",
        "print(\"✅ Conversion complete!\")\n",
        "\n",
        "# Step 7: Zip the output folder for download\n",
        "output_zip = \"grayscale_images.zip\"\n",
        "with zipfile.ZipFile(output_zip, 'w') as zipf:\n",
        "    for root, _, files in os.walk(output_folder):\n",
        "        for file in files:\n",
        "            full_path = os.path.join(root, file)\n",
        "            zipf.write(full_path, arcname=os.path.relpath(full_path, output_folder))\n",
        "\n"
      ]
    },
    {
      "cell_type": "code",
      "source": [
        "#if you want to delete download folder\n",
        "import shutil; shutil.rmtree(\"/content/project\", ignore_errors=True)"
      ],
      "metadata": {
        "id": "Xx_64ZgR3QzK"
      },
      "execution_count": 5,
      "outputs": []
    }
  ]
}